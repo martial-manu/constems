{
 "cells": [
  {
   "cell_type": "code",
   "execution_count": 18,
   "id": "3e27d433",
   "metadata": {},
   "outputs": [],
   "source": [
    "import joblib\n",
    "from tensorflow.keras.models import Sequential\n",
    "from tensorflow.keras.layers import Dense , Input , MaxPool2D , Conv2D , Flatten\n",
    "import matplotlib.pyplot as plt\n",
    "import numpy as np\n",
    "import os\n",
    "import PIL\n",
    "import tensorflow as tf\n",
    "\n",
    "from tensorflow import keras\n",
    "from tensorflow.keras import layers\n",
    "from tensorflow.keras.models import Sequential"
   ]
  },
  {
   "cell_type": "code",
   "execution_count": 47,
   "id": "a03dccd5",
   "metadata": {},
   "outputs": [],
   "source": [
    "Xt = joblib.load('X_train')\n",
    "Yt = joblib.load('Y_train')"
   ]
  },
  {
   "cell_type": "code",
   "execution_count": 48,
   "id": "34ce1f99",
   "metadata": {},
   "outputs": [],
   "source": [
    "model = Sequential([\n",
    "    Input(shape = (64 , 64 , 3)) , \n",
    "    Conv2D(32 , 3 , activation = 'relu'),\n",
    "    MaxPool2D(),\n",
    "    Conv2D(16 , 3 , activation = 'relu'),\n",
    "    MaxPool2D() , \n",
    "    Flatten(),\n",
    "    Dense(128  , activation = 'relu'),\n",
    "    Dense(16 , activation ='relu'),\n",
    "    Dense(1 , activation = 'sigmoid')\n",
    "])"
   ]
  },
  {
   "cell_type": "code",
   "execution_count": 49,
   "id": "54223860",
   "metadata": {},
   "outputs": [],
   "source": [
    "model.compile(optimizer = 'adam' , loss = 'binary_crossentropy' , metrics = ['accuracy'])"
   ]
  },
  {
   "cell_type": "code",
   "execution_count": 50,
   "id": "ff775c78",
   "metadata": {},
   "outputs": [],
   "source": [
    "import numpy as np"
   ]
  },
  {
   "cell_type": "code",
   "execution_count": 51,
   "id": "388bce3e",
   "metadata": {
    "scrolled": true
   },
   "outputs": [
    {
     "data": {
      "text/plain": [
       "(1000, 64, 64, 3)"
      ]
     },
     "execution_count": 51,
     "metadata": {},
     "output_type": "execute_result"
    }
   ],
   "source": [
    "Ytt = Yt.reshape(1000 ,1)\n",
    "Xt.shape"
   ]
  },
  {
   "cell_type": "code",
   "execution_count": 52,
   "id": "1acd6953",
   "metadata": {},
   "outputs": [
    {
     "data": {
      "text/plain": [
       "array([[[[1.        , 1.        , 1.        ],\n",
       "         [1.        , 1.        , 1.        ],\n",
       "         [1.        , 1.        , 1.        ],\n",
       "         ...,\n",
       "         [1.        , 1.        , 1.        ],\n",
       "         [1.        , 1.        , 1.        ],\n",
       "         [1.        , 1.        , 1.        ]],\n",
       "\n",
       "        [[1.        , 1.        , 1.        ],\n",
       "         [1.        , 1.        , 1.        ],\n",
       "         [1.        , 1.        , 1.        ],\n",
       "         ...,\n",
       "         [1.        , 1.        , 1.        ],\n",
       "         [1.        , 1.        , 1.        ],\n",
       "         [1.        , 1.        , 1.        ]],\n",
       "\n",
       "        [[1.        , 1.        , 1.        ],\n",
       "         [1.        , 1.        , 1.        ],\n",
       "         [1.        , 1.        , 1.        ],\n",
       "         ...,\n",
       "         [1.        , 1.        , 0.99607843],\n",
       "         [1.        , 1.        , 1.        ],\n",
       "         [1.        , 1.        , 1.        ]],\n",
       "\n",
       "        ...,\n",
       "\n",
       "        [[1.        , 1.        , 1.        ],\n",
       "         [1.        , 1.        , 1.        ],\n",
       "         [1.        , 1.        , 1.        ],\n",
       "         ...,\n",
       "         [1.        , 1.        , 1.        ],\n",
       "         [1.        , 1.        , 1.        ],\n",
       "         [1.        , 1.        , 1.        ]],\n",
       "\n",
       "        [[1.        , 1.        , 1.        ],\n",
       "         [1.        , 1.        , 1.        ],\n",
       "         [1.        , 1.        , 1.        ],\n",
       "         ...,\n",
       "         [1.        , 1.        , 1.        ],\n",
       "         [1.        , 1.        , 1.        ],\n",
       "         [1.        , 1.        , 1.        ]],\n",
       "\n",
       "        [[1.        , 1.        , 1.        ],\n",
       "         [1.        , 1.        , 1.        ],\n",
       "         [1.        , 1.        , 1.        ],\n",
       "         ...,\n",
       "         [1.        , 1.        , 1.        ],\n",
       "         [1.        , 1.        , 1.        ],\n",
       "         [1.        , 1.        , 1.        ]]],\n",
       "\n",
       "\n",
       "       [[[1.        , 1.        , 1.        ],\n",
       "         [1.        , 1.        , 1.        ],\n",
       "         [1.        , 1.        , 1.        ],\n",
       "         ...,\n",
       "         [1.        , 1.        , 1.        ],\n",
       "         [1.        , 1.        , 1.        ],\n",
       "         [1.        , 1.        , 1.        ]],\n",
       "\n",
       "        [[1.        , 1.        , 1.        ],\n",
       "         [1.        , 1.        , 1.        ],\n",
       "         [1.        , 1.        , 1.        ],\n",
       "         ...,\n",
       "         [1.        , 1.        , 1.        ],\n",
       "         [1.        , 1.        , 1.        ],\n",
       "         [1.        , 1.        , 1.        ]],\n",
       "\n",
       "        [[1.        , 1.        , 1.        ],\n",
       "         [1.        , 1.        , 1.        ],\n",
       "         [1.        , 1.        , 1.        ],\n",
       "         ...,\n",
       "         [1.        , 1.        , 1.        ],\n",
       "         [1.        , 1.        , 1.        ],\n",
       "         [1.        , 1.        , 1.        ]],\n",
       "\n",
       "        ...,\n",
       "\n",
       "        [[1.        , 1.        , 1.        ],\n",
       "         [1.        , 1.        , 1.        ],\n",
       "         [1.        , 1.        , 1.        ],\n",
       "         ...,\n",
       "         [1.        , 1.        , 1.        ],\n",
       "         [1.        , 1.        , 1.        ],\n",
       "         [1.        , 1.        , 1.        ]],\n",
       "\n",
       "        [[1.        , 1.        , 1.        ],\n",
       "         [1.        , 1.        , 1.        ],\n",
       "         [1.        , 1.        , 1.        ],\n",
       "         ...,\n",
       "         [1.        , 1.        , 1.        ],\n",
       "         [1.        , 1.        , 1.        ],\n",
       "         [1.        , 1.        , 1.        ]],\n",
       "\n",
       "        [[1.        , 1.        , 1.        ],\n",
       "         [1.        , 1.        , 1.        ],\n",
       "         [1.        , 1.        , 1.        ],\n",
       "         ...,\n",
       "         [1.        , 1.        , 1.        ],\n",
       "         [1.        , 1.        , 1.        ],\n",
       "         [1.        , 1.        , 1.        ]]],\n",
       "\n",
       "\n",
       "       [[[1.        , 1.        , 1.        ],\n",
       "         [1.        , 1.        , 1.        ],\n",
       "         [1.        , 0.99607843, 1.        ],\n",
       "         ...,\n",
       "         [1.        , 1.        , 1.        ],\n",
       "         [1.        , 1.        , 1.        ],\n",
       "         [1.        , 1.        , 1.        ]],\n",
       "\n",
       "        [[1.        , 1.        , 1.        ],\n",
       "         [1.        , 1.        , 1.        ],\n",
       "         [1.        , 0.99607843, 1.        ],\n",
       "         ...,\n",
       "         [1.        , 1.        , 1.        ],\n",
       "         [1.        , 1.        , 1.        ],\n",
       "         [1.        , 1.        , 1.        ]],\n",
       "\n",
       "        [[1.        , 0.99607843, 1.        ],\n",
       "         [1.        , 0.99607843, 1.        ],\n",
       "         [1.        , 1.        , 1.        ],\n",
       "         ...,\n",
       "         [1.        , 1.        , 1.        ],\n",
       "         [1.        , 1.        , 1.        ],\n",
       "         [1.        , 1.        , 1.        ]],\n",
       "\n",
       "        ...,\n",
       "\n",
       "        [[1.        , 1.        , 1.        ],\n",
       "         [1.        , 1.        , 1.        ],\n",
       "         [1.        , 1.        , 1.        ],\n",
       "         ...,\n",
       "         [1.        , 1.        , 1.        ],\n",
       "         [1.        , 1.        , 1.        ],\n",
       "         [1.        , 1.        , 1.        ]],\n",
       "\n",
       "        [[1.        , 1.        , 1.        ],\n",
       "         [1.        , 1.        , 1.        ],\n",
       "         [1.        , 1.        , 1.        ],\n",
       "         ...,\n",
       "         [1.        , 1.        , 1.        ],\n",
       "         [1.        , 1.        , 1.        ],\n",
       "         [1.        , 1.        , 1.        ]],\n",
       "\n",
       "        [[1.        , 1.        , 1.        ],\n",
       "         [1.        , 1.        , 1.        ],\n",
       "         [1.        , 1.        , 1.        ],\n",
       "         ...,\n",
       "         [1.        , 1.        , 1.        ],\n",
       "         [1.        , 1.        , 1.        ],\n",
       "         [1.        , 1.        , 1.        ]]],\n",
       "\n",
       "\n",
       "       ...,\n",
       "\n",
       "\n",
       "       [[[1.        , 1.        , 1.        ],\n",
       "         [1.        , 1.        , 1.        ],\n",
       "         [1.        , 1.        , 1.        ],\n",
       "         ...,\n",
       "         [1.        , 1.        , 1.        ],\n",
       "         [1.        , 1.        , 1.        ],\n",
       "         [1.        , 1.        , 1.        ]],\n",
       "\n",
       "        [[1.        , 1.        , 1.        ],\n",
       "         [1.        , 1.        , 1.        ],\n",
       "         [1.        , 1.        , 1.        ],\n",
       "         ...,\n",
       "         [1.        , 1.        , 1.        ],\n",
       "         [1.        , 1.        , 1.        ],\n",
       "         [1.        , 1.        , 1.        ]],\n",
       "\n",
       "        [[1.        , 1.        , 1.        ],\n",
       "         [1.        , 1.        , 1.        ],\n",
       "         [1.        , 1.        , 1.        ],\n",
       "         ...,\n",
       "         [1.        , 1.        , 1.        ],\n",
       "         [1.        , 1.        , 1.        ],\n",
       "         [1.        , 1.        , 1.        ]],\n",
       "\n",
       "        ...,\n",
       "\n",
       "        [[1.        , 1.        , 1.        ],\n",
       "         [1.        , 1.        , 1.        ],\n",
       "         [1.        , 1.        , 1.        ],\n",
       "         ...,\n",
       "         [1.        , 1.        , 1.        ],\n",
       "         [1.        , 1.        , 1.        ],\n",
       "         [1.        , 1.        , 1.        ]],\n",
       "\n",
       "        [[1.        , 1.        , 1.        ],\n",
       "         [1.        , 1.        , 1.        ],\n",
       "         [1.        , 1.        , 1.        ],\n",
       "         ...,\n",
       "         [1.        , 1.        , 1.        ],\n",
       "         [1.        , 1.        , 1.        ],\n",
       "         [1.        , 1.        , 1.        ]],\n",
       "\n",
       "        [[1.        , 1.        , 1.        ],\n",
       "         [1.        , 1.        , 1.        ],\n",
       "         [1.        , 1.        , 1.        ],\n",
       "         ...,\n",
       "         [1.        , 1.        , 1.        ],\n",
       "         [1.        , 1.        , 1.        ],\n",
       "         [1.        , 1.        , 1.        ]]],\n",
       "\n",
       "\n",
       "       [[[1.        , 1.        , 1.        ],\n",
       "         [1.        , 1.        , 1.        ],\n",
       "         [1.        , 1.        , 1.        ],\n",
       "         ...,\n",
       "         [1.        , 1.        , 1.        ],\n",
       "         [1.        , 1.        , 1.        ],\n",
       "         [1.        , 1.        , 1.        ]],\n",
       "\n",
       "        [[1.        , 1.        , 1.        ],\n",
       "         [1.        , 1.        , 1.        ],\n",
       "         [1.        , 1.        , 1.        ],\n",
       "         ...,\n",
       "         [1.        , 1.        , 1.        ],\n",
       "         [1.        , 1.        , 1.        ],\n",
       "         [1.        , 1.        , 1.        ]],\n",
       "\n",
       "        [[1.        , 1.        , 1.        ],\n",
       "         [1.        , 1.        , 1.        ],\n",
       "         [1.        , 1.        , 1.        ],\n",
       "         ...,\n",
       "         [1.        , 1.        , 1.        ],\n",
       "         [1.        , 1.        , 1.        ],\n",
       "         [1.        , 1.        , 1.        ]],\n",
       "\n",
       "        ...,\n",
       "\n",
       "        [[0.98431373, 1.        , 1.        ],\n",
       "         [0.99215686, 1.        , 1.        ],\n",
       "         [1.        , 0.99607843, 1.        ],\n",
       "         ...,\n",
       "         [1.        , 1.        , 1.        ],\n",
       "         [1.        , 1.        , 1.        ],\n",
       "         [1.        , 1.        , 1.        ]],\n",
       "\n",
       "        [[0.99215686, 1.        , 1.        ],\n",
       "         [0.99215686, 1.        , 1.        ],\n",
       "         [0.99215686, 1.        , 1.        ],\n",
       "         ...,\n",
       "         [1.        , 1.        , 1.        ],\n",
       "         [1.        , 1.        , 1.        ],\n",
       "         [1.        , 1.        , 1.        ]],\n",
       "\n",
       "        [[0.99215686, 1.        , 1.        ],\n",
       "         [0.99215686, 1.        , 1.        ],\n",
       "         [0.98431373, 1.        , 1.        ],\n",
       "         ...,\n",
       "         [1.        , 1.        , 1.        ],\n",
       "         [1.        , 1.        , 1.        ],\n",
       "         [1.        , 1.        , 1.        ]]],\n",
       "\n",
       "\n",
       "       [[[1.        , 1.        , 1.        ],\n",
       "         [1.        , 1.        , 1.        ],\n",
       "         [1.        , 1.        , 1.        ],\n",
       "         ...,\n",
       "         [1.        , 1.        , 1.        ],\n",
       "         [1.        , 1.        , 1.        ],\n",
       "         [1.        , 1.        , 1.        ]],\n",
       "\n",
       "        [[1.        , 1.        , 1.        ],\n",
       "         [1.        , 1.        , 1.        ],\n",
       "         [1.        , 1.        , 1.        ],\n",
       "         ...,\n",
       "         [1.        , 1.        , 1.        ],\n",
       "         [1.        , 1.        , 1.        ],\n",
       "         [1.        , 1.        , 1.        ]],\n",
       "\n",
       "        [[1.        , 1.        , 1.        ],\n",
       "         [1.        , 1.        , 1.        ],\n",
       "         [1.        , 1.        , 1.        ],\n",
       "         ...,\n",
       "         [1.        , 1.        , 1.        ],\n",
       "         [1.        , 1.        , 1.        ],\n",
       "         [1.        , 1.        , 1.        ]],\n",
       "\n",
       "        ...,\n",
       "\n",
       "        [[1.        , 1.        , 1.        ],\n",
       "         [1.        , 1.        , 1.        ],\n",
       "         [1.        , 1.        , 1.        ],\n",
       "         ...,\n",
       "         [1.        , 1.        , 1.        ],\n",
       "         [1.        , 1.        , 1.        ],\n",
       "         [1.        , 1.        , 1.        ]],\n",
       "\n",
       "        [[1.        , 1.        , 1.        ],\n",
       "         [1.        , 1.        , 1.        ],\n",
       "         [1.        , 1.        , 1.        ],\n",
       "         ...,\n",
       "         [1.        , 1.        , 1.        ],\n",
       "         [1.        , 1.        , 1.        ],\n",
       "         [1.        , 1.        , 1.        ]],\n",
       "\n",
       "        [[1.        , 1.        , 1.        ],\n",
       "         [1.        , 1.        , 1.        ],\n",
       "         [1.        , 1.        , 1.        ],\n",
       "         ...,\n",
       "         [1.        , 1.        , 1.        ],\n",
       "         [1.        , 1.        , 1.        ],\n",
       "         [1.        , 1.        , 1.        ]]]])"
      ]
     },
     "execution_count": 52,
     "metadata": {},
     "output_type": "execute_result"
    }
   ],
   "source": [
    "Xt"
   ]
  },
  {
   "cell_type": "code",
   "execution_count": 53,
   "id": "14447366",
   "metadata": {},
   "outputs": [
    {
     "name": "stdout",
     "output_type": "stream",
     "text": [
      "Epoch 1/20\n",
      "25/25 [==============================] - 3s 97ms/step - loss: 0.6381 - accuracy: 0.7400 - val_loss: 0.5018 - val_accuracy: 0.7800\n",
      "Epoch 2/20\n",
      "25/25 [==============================] - 2s 63ms/step - loss: 0.4681 - accuracy: 0.7962 - val_loss: 0.3464 - val_accuracy: 0.8850\n",
      "Epoch 3/20\n",
      "25/25 [==============================] - 2s 63ms/step - loss: 0.3864 - accuracy: 0.8325 - val_loss: 0.3052 - val_accuracy: 0.8850\n",
      "Epoch 4/20\n",
      "25/25 [==============================] - 2s 62ms/step - loss: 0.3274 - accuracy: 0.8612 - val_loss: 0.2572 - val_accuracy: 0.8850\n",
      "Epoch 5/20\n",
      "25/25 [==============================] - 2s 63ms/step - loss: 0.2644 - accuracy: 0.8888 - val_loss: 0.2617 - val_accuracy: 0.8650\n",
      "Epoch 6/20\n",
      "25/25 [==============================] - 2s 63ms/step - loss: 0.2333 - accuracy: 0.8975 - val_loss: 0.1789 - val_accuracy: 0.9250\n",
      "Epoch 7/20\n",
      "25/25 [==============================] - 2s 60ms/step - loss: 0.2706 - accuracy: 0.8925 - val_loss: 0.2462 - val_accuracy: 0.8900\n",
      "Epoch 8/20\n",
      "25/25 [==============================] - 1s 58ms/step - loss: 0.2168 - accuracy: 0.9212 - val_loss: 0.1536 - val_accuracy: 0.9400\n",
      "Epoch 9/20\n",
      "25/25 [==============================] - 1s 56ms/step - loss: 0.1150 - accuracy: 0.9650 - val_loss: 0.0955 - val_accuracy: 0.9850\n",
      "Epoch 10/20\n",
      "25/25 [==============================] - 1s 56ms/step - loss: 0.0392 - accuracy: 0.9950 - val_loss: 0.0321 - val_accuracy: 0.9950\n",
      "Epoch 11/20\n",
      "25/25 [==============================] - 1s 57ms/step - loss: 0.0083 - accuracy: 1.0000 - val_loss: 0.0146 - val_accuracy: 0.9950\n",
      "Epoch 12/20\n",
      "25/25 [==============================] - 1s 58ms/step - loss: 0.0033 - accuracy: 1.0000 - val_loss: 0.0097 - val_accuracy: 0.9950\n",
      "Epoch 13/20\n",
      "25/25 [==============================] - 1s 58ms/step - loss: 0.0022 - accuracy: 1.0000 - val_loss: 0.0080 - val_accuracy: 0.9950\n",
      "Epoch 14/20\n",
      "25/25 [==============================] - 1s 57ms/step - loss: 0.0017 - accuracy: 1.0000 - val_loss: 0.0079 - val_accuracy: 0.9950\n",
      "Epoch 15/20\n",
      "25/25 [==============================] - 1s 57ms/step - loss: 0.0013 - accuracy: 1.0000 - val_loss: 0.0061 - val_accuracy: 0.9950\n",
      "Epoch 16/20\n",
      "25/25 [==============================] - 1s 57ms/step - loss: 9.4253e-04 - accuracy: 1.0000 - val_loss: 0.0041 - val_accuracy: 1.0000\n",
      "Epoch 17/20\n",
      "25/25 [==============================] - 1s 57ms/step - loss: 7.5863e-04 - accuracy: 1.0000 - val_loss: 0.0036 - val_accuracy: 1.0000\n",
      "Epoch 18/20\n",
      "25/25 [==============================] - 1s 58ms/step - loss: 5.9386e-04 - accuracy: 1.0000 - val_loss: 0.0026 - val_accuracy: 1.0000\n",
      "Epoch 19/20\n",
      "25/25 [==============================] - 1s 56ms/step - loss: 4.7518e-04 - accuracy: 1.0000 - val_loss: 0.0029 - val_accuracy: 1.0000\n",
      "Epoch 20/20\n",
      "25/25 [==============================] - 1s 56ms/step - loss: 3.8783e-04 - accuracy: 1.0000 - val_loss: 0.0035 - val_accuracy: 1.0000\n"
     ]
    }
   ],
   "source": [
    "hist = model.fit(x = Xt , y= Yt , validation_split=0.2  , epochs = 20)"
   ]
  },
  {
   "cell_type": "code",
   "execution_count": 55,
   "id": "ffb4777d",
   "metadata": {},
   "outputs": [
    {
     "name": "stdout",
     "output_type": "stream",
     "text": [
      "INFO:tensorflow:Assets written to: ram://d2e266ff-c5f0-45b3-8914-5f1e598e7518/assets\n"
     ]
    },
    {
     "data": {
      "text/plain": [
       "['model_final']"
      ]
     },
     "execution_count": 55,
     "metadata": {},
     "output_type": "execute_result"
    }
   ],
   "source": [
    "joblib.dump(model , 'model_final')"
   ]
  },
  {
   "cell_type": "code",
   "execution_count": 56,
   "id": "a45faeba",
   "metadata": {},
   "outputs": [
    {
     "data": {
      "text/plain": [
       "<keras.callbacks.History at 0x2391fe1f190>"
      ]
     },
     "execution_count": 56,
     "metadata": {},
     "output_type": "execute_result"
    }
   ],
   "source": [
    "hist"
   ]
  },
  {
   "cell_type": "code",
   "execution_count": 57,
   "id": "605fe801",
   "metadata": {},
   "outputs": [
    {
     "data": {
      "text/plain": [
       "{'loss': [0.6380622982978821,\n",
       "  0.4681302309036255,\n",
       "  0.38642260432243347,\n",
       "  0.327363520860672,\n",
       "  0.26437023282051086,\n",
       "  0.23334325850009918,\n",
       "  0.27059847116470337,\n",
       "  0.2168087214231491,\n",
       "  0.11503853648900986,\n",
       "  0.039238426834344864,\n",
       "  0.008317051455378532,\n",
       "  0.003276495262980461,\n",
       "  0.0022470338735729456,\n",
       "  0.0017430600710213184,\n",
       "  0.001331591745838523,\n",
       "  0.0009425341850146651,\n",
       "  0.0007586321444250643,\n",
       "  0.0005938643007539213,\n",
       "  0.00047517652274109423,\n",
       "  0.00038782719639129937],\n",
       " 'accuracy': [0.7400000095367432,\n",
       "  0.7962499856948853,\n",
       "  0.8324999809265137,\n",
       "  0.8612499833106995,\n",
       "  0.8887500166893005,\n",
       "  0.8974999785423279,\n",
       "  0.8924999833106995,\n",
       "  0.9212499856948853,\n",
       "  0.9649999737739563,\n",
       "  0.9950000047683716,\n",
       "  1.0,\n",
       "  1.0,\n",
       "  1.0,\n",
       "  1.0,\n",
       "  1.0,\n",
       "  1.0,\n",
       "  1.0,\n",
       "  1.0,\n",
       "  1.0,\n",
       "  1.0],\n",
       " 'val_loss': [0.5018431544303894,\n",
       "  0.346355140209198,\n",
       "  0.30520570278167725,\n",
       "  0.2571551203727722,\n",
       "  0.2616783380508423,\n",
       "  0.17891588807106018,\n",
       "  0.246206134557724,\n",
       "  0.1535760462284088,\n",
       "  0.09554433077573776,\n",
       "  0.03210940212011337,\n",
       "  0.014583966694772243,\n",
       "  0.009729967452585697,\n",
       "  0.008047028444707394,\n",
       "  0.007884309627115726,\n",
       "  0.006073883268982172,\n",
       "  0.004125547595322132,\n",
       "  0.0035866526886820793,\n",
       "  0.0025758708361536264,\n",
       "  0.002863132394850254,\n",
       "  0.0034921010956168175],\n",
       " 'val_accuracy': [0.7799999713897705,\n",
       "  0.8849999904632568,\n",
       "  0.8849999904632568,\n",
       "  0.8849999904632568,\n",
       "  0.8650000095367432,\n",
       "  0.925000011920929,\n",
       "  0.8899999856948853,\n",
       "  0.9399999976158142,\n",
       "  0.9850000143051147,\n",
       "  0.9950000047683716,\n",
       "  0.9950000047683716,\n",
       "  0.9950000047683716,\n",
       "  0.9950000047683716,\n",
       "  0.9950000047683716,\n",
       "  0.9950000047683716,\n",
       "  1.0,\n",
       "  1.0,\n",
       "  1.0,\n",
       "  1.0,\n",
       "  1.0]}"
      ]
     },
     "execution_count": 57,
     "metadata": {},
     "output_type": "execute_result"
    }
   ],
   "source": [
    "hist.history"
   ]
  },
  {
   "cell_type": "code",
   "execution_count": 58,
   "id": "859b10e4",
   "metadata": {},
   "outputs": [],
   "source": [
    "import matplotlib.pyplot as plt"
   ]
  },
  {
   "cell_type": "code",
   "execution_count": 63,
   "id": "c85c31a2",
   "metadata": {},
   "outputs": [
    {
     "data": {
      "text/plain": [
       "[<matplotlib.lines.Line2D at 0x23927752fd0>]"
      ]
     },
     "execution_count": 63,
     "metadata": {},
     "output_type": "execute_result"
    },
    {
     "data": {
      "image/png": "[encoded data removed]",
      "text/plain": [
       "<Figure size 432x288 with 1 Axes>"
      ]
     },
     "metadata": {
      "needs_background": "light"
     },
     "output_type": "display_data"
    }
   ],
   "source": [
    "plt.plot(hist.history['accuracy'] , label = 'accuracy')\n",
    "plt.plot(hist.history['val_accuracy'] , label = 'val_accuracy')\n",
    "plt.plot(hist.history['loss'] , label = 'loss')\n",
    "plt.plot(hist.history['val_loss'] , label = 'val_l')\n"
   ]
  },
  {
   "cell_type": "code",
   "execution_count": 68,
   "id": "9c551fea",
   "metadata": {},
   "outputs": [
    {
     "name": "stdout",
     "output_type": "stream",
     "text": [
      "INFO:tensorflow:Assets written to: model_final2\\assets\n"
     ]
    }
   ],
   "source": [
    "model.save('model_final2')"
   ]
  },
  {
   "cell_type": "code",
   "execution_count": null,
   "id": "ec03e7cd",
   "metadata": {},
   "outputs": [],
   "source": []
  }
 ],
 "metadata": {
  "kernelspec": {
   "display_name": "Python 3 (ipykernel)",
   "language": "python",
   "name": "python3"
  },
  "language_info": {
   "codemirror_mode": {
    "name": "ipython",
    "version": 3
   },
   "file_extension": ".py",
   "mimetype": "text/x-python",
   "name": "python",
   "nbconvert_exporter": "python",
   "pygments_lexer": "ipython3",
   "version": "3.9.7"
  }
 },
 "nbformat": 4,
 "nbformat_minor": 5
}
