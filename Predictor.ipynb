{
 "cells": [
  {
   "cell_type": "code",
   "execution_count": 1,
   "id": "344f1d64",
   "metadata": {},
   "outputs": [],
   "source": [
    "import joblib\n",
    "import cv2"
   ]
  },
  {
   "cell_type": "code",
   "execution_count": 2,
   "id": "a9125350",
   "metadata": {},
   "outputs": [],
   "source": [
    "import numpy as np"
   ]
  },
  {
   "cell_type": "code",
   "execution_count": 57,
   "id": "9169ed03",
   "metadata": {},
   "outputs": [],
   "source": [
    "class Predict:\n",
    "    def __init__(self):\n",
    "        self.model = load_model('model_final2')\n",
    "        self.label = ['circle' , 'rectangle']\n",
    "    def predict(self , img_path):\n",
    "        img = cv2.imread(img_path)\n",
    "        img = img.reshape(1 , img.shape[0] , img.shape[1] , img.shape[2])\n",
    "        ans = model.predict(img)\n",
    "        print(self.label[int(ans[0][0])])"
   ]
  },
  {
   "cell_type": "code",
   "execution_count": 58,
   "id": "3db474ce",
   "metadata": {},
   "outputs": [],
   "source": [
    "pred = Predict()"
   ]
  },
  {
   "cell_type": "code",
   "execution_count": 59,
   "id": "92a0621e",
   "metadata": {},
   "outputs": [
    {
     "name": "stdout",
     "output_type": "stream",
     "text": [
      "(64, 64, 3)\n",
      "circle\n"
     ]
    }
   ],
   "source": [
    "pred.predict('./toy_train/circle/101.jpg')"
   ]
  },
  {
   "cell_type": "code",
   "execution_count": 64,
   "id": "88c0e29f",
   "metadata": {},
   "outputs": [
    {
     "name": "stdout",
     "output_type": "stream",
     "text": [
      "(64, 64, 3)\n",
      "rectangle\n"
     ]
    }
   ],
   "source": [
    "pred.predict('./toy_train/rectangle/100.jpg')"
   ]
  },
  {
   "cell_type": "code",
   "execution_count": null,
   "id": "df6d935c",
   "metadata": {},
   "outputs": [],
   "source": []
  }
 ],
 "metadata": {
  "kernelspec": {
   "display_name": "Python 3 (ipykernel)",
   "language": "python",
   "name": "python3"
  },
  "language_info": {
   "codemirror_mode": {
    "name": "ipython",
    "version": 3
   },
   "file_extension": ".py",
   "mimetype": "text/x-python",
   "name": "python",
   "nbconvert_exporter": "python",
   "pygments_lexer": "ipython3",
   "version": "3.9.7"
  }
 },
 "nbformat": 4,
 "nbformat_minor": 5
}
