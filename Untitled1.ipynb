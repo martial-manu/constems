{
 "cells": [
  {
   "cell_type": "code",
   "execution_count": 1,
   "id": "840d5cd1",
   "metadata": {},
   "outputs": [],
   "source": [
    "import numpy as np\n",
    "import tensorflow as tf\n",
    "import matplotlib.pyplot as plt\n",
    "import os\n",
    "import PIL\n",
    "from tensorflow import keras\n",
    "from tensorflow.keras import layers\n",
    "from tensorflow.keras.models import Sequential\n",
    "import pathlib"
   ]
  },
  {
   "cell_type": "code",
   "execution_count": 2,
   "id": "149bc0e9",
   "metadata": {},
   "outputs": [],
   "source": [
    "dataset_path = './toy_train'"
   ]
  },
  {
   "cell_type": "code",
   "execution_count": 3,
   "id": "dd86f349",
   "metadata": {},
   "outputs": [],
   "source": [
    "dataset_dir = pathlib.Path(dataset_path)"
   ]
  },
  {
   "cell_type": "code",
   "execution_count": 5,
   "id": "a60481fb",
   "metadata": {},
   "outputs": [],
   "source": [
    "train_image_count = len(list(dataset_dir.glob(\"*/*.jpg\")))"
   ]
  },
  {
   "cell_type": "code",
   "execution_count": 6,
   "id": "dbd725f4",
   "metadata": {},
   "outputs": [
    {
     "data": {
      "text/plain": [
       "1000"
      ]
     },
     "execution_count": 6,
     "metadata": {},
     "output_type": "execute_result"
    }
   ],
   "source": [
    "train_image_count"
   ]
  },
  {
   "cell_type": "code",
   "execution_count": 7,
   "id": "6b9fe5d0",
   "metadata": {},
   "outputs": [],
   "source": [
    "train_imgs = list(dataset_dir.glob(\"*/*.jpg\"))"
   ]
  },
  {
   "cell_type": "code",
   "execution_count": 8,
   "id": "0a52fc4b",
   "metadata": {},
   "outputs": [
    {
     "data": {
      "text/plain": [
       "WindowsPath('toy_train/circle/101.jpg')"
      ]
     },
     "execution_count": 8,
     "metadata": {},
     "output_type": "execute_result"
    }
   ],
   "source": [
    "train_imgs[0]"
   ]
  },
  {
   "cell_type": "code",
   "execution_count": 10,
   "id": "d930771a",
   "metadata": {},
   "outputs": [
    {
     "data": {
      "image/png": "[encoded data removed]",
      "text/plain": [
       "<PIL.JpegImagePlugin.JpegImageFile image mode=RGB size=64x64 at 0x1E11D664D30>"
      ]
     },
     "execution_count": 10,
     "metadata": {},
     "output_type": "execute_result"
    }
   ],
   "source": [
    "PIL.Image.open(train_imgs[0])"
   ]
  },
  {
   "cell_type": "code",
   "execution_count": 11,
   "id": "ffecd6b2",
   "metadata": {},
   "outputs": [],
   "source": [
    "batch_size = 32 \n",
    "img_h = 60\n",
    "img_w = 60"
   ]
  },
  {
   "cell_type": "code",
   "execution_count": 13,
   "id": "5e7387c0",
   "metadata": {},
   "outputs": [],
   "source": [
    "from tensorflow.keras.preprocessing.image import ImageDataGenerator"
   ]
  },
  {
   "cell_type": "code",
   "execution_count": 14,
   "id": "70e20420",
   "metadata": {},
   "outputs": [],
   "source": [
    "train_data_gen = ImageDataGenerator(rescale = 1./255)"
   ]
  },
  {
   "cell_type": "code",
   "execution_count": null,
   "id": "b4487e8b",
   "metadata": {},
   "outputs": [],
   "source": []
  }
 ],
 "metadata": {
  "kernelspec": {
   "display_name": "Python 3 (ipykernel)",
   "language": "python",
   "name": "python3"
  },
  "language_info": {
   "codemirror_mode": {
    "name": "ipython",
    "version": 3
   },
   "file_extension": ".py",
   "mimetype": "text/x-python",
   "name": "python",
   "nbconvert_exporter": "python",
   "pygments_lexer": "ipython3",
   "version": "3.9.7"
  }
 },
 "nbformat": 4,
 "nbformat_minor": 5
}
