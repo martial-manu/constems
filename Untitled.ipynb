{
 "cells": [
  {
   "cell_type": "markdown",
   "id": "99b45dbe",
   "metadata": {},
   "source": [
    "# Libraries"
   ]
  },
  {
   "cell_type": "code",
   "execution_count": 106,
   "id": "d4e48abb",
   "metadata": {},
   "outputs": [],
   "source": [
    "import matplotlib.pyplot as plt\n",
    "import numpy as np\n",
    "import os\n",
    "import PIL\n",
    "import tensorflow as tf\n",
    "\n",
    "from tensorflow import keras\n",
    "from tensorflow.keras import layers\n",
    "from tensorflow.keras.models import Sequential"
   ]
  },
  {
   "cell_type": "code",
   "execution_count": 107,
   "id": "877a0dfd",
   "metadata": {},
   "outputs": [],
   "source": [
    "data_dir = './toy_train';"
   ]
  },
  {
   "cell_type": "code",
   "execution_count": 155,
   "id": "7d2b04f8",
   "metadata": {},
   "outputs": [],
   "source": [
    "batch_size = 32\n",
    "image_height = 60\n",
    "image_width = 60"
   ]
  },
  {
   "cell_type": "code",
   "execution_count": 156,
   "id": "bf009fbb",
   "metadata": {},
   "outputs": [],
   "source": [
    "import cv2 \n",
    "import matplotlib.pyplot as plt"
   ]
  },
  {
   "cell_type": "code",
   "execution_count": 174,
   "id": "302aab47",
   "metadata": {},
   "outputs": [],
   "source": [
    "import pathlib"
   ]
  },
  {
   "cell_type": "code",
   "execution_count": 181,
   "id": "9491723e",
   "metadata": {},
   "outputs": [
    {
     "data": {
      "image/png": "[encoded data removed]",
      "text/plain": [
       "<Figure size 432x288 with 1 Axes>"
      ]
     },
     "metadata": {
      "needs_background": "light"
     },
     "output_type": "display_data"
    },
    {
     "name": "stdout",
     "output_type": "stream",
     "text": [
      "(64, 64, 3)\n"
     ]
    }
   ],
   "source": [
    "data_dir = pathlib.Path(data_dir)\n",
    "for img in data_dir.glob(\"*/*.jpg\"):\n",
    "    image = cv2.imread(str(img))\n",
    "    plt.imshow(image)\n",
    "    plt.show()\n",
    "    print(image.shape)\n",
    "    break"
   ]
  },
  {
   "cell_type": "code",
   "execution_count": 260,
   "id": "1168d734",
   "metadata": {},
   "outputs": [],
   "source": [
    "X = []\n",
    "Y = []"
   ]
  },
  {
   "cell_type": "code",
   "execution_count": 261,
   "id": "566707b2",
   "metadata": {},
   "outputs": [],
   "source": [
    "for img in data_dir.glob(\"*/*.jpg\"):\n",
    "    path_str = str(img)\n",
    "    arr = path_str.split('\\\\')\n",
    "    image = cv2.imread(path_str)\n",
    "    X.append(image)\n",
    "    if arr[1][0] == 'c':\n",
    "        Y.append(0)\n",
    "    else :\n",
    "        Y.append(1)\n",
    "    "
   ]
  },
  {
   "cell_type": "code",
   "execution_count": 262,
   "id": "3f9a3550",
   "metadata": {},
   "outputs": [
    {
     "data": {
      "text/plain": [
       "1000"
      ]
     },
     "execution_count": 262,
     "metadata": {},
     "output_type": "execute_result"
    }
   ],
   "source": [
    "len(Y)"
   ]
  },
  {
   "cell_type": "code",
   "execution_count": 263,
   "id": "57d78278",
   "metadata": {},
   "outputs": [],
   "source": [
    "import numpy as np\n",
    "import pandas as pd"
   ]
  },
  {
   "cell_type": "code",
   "execution_count": null,
   "id": "960f8887",
   "metadata": {},
   "outputs": [],
   "source": []
  },
  {
   "cell_type": "code",
   "execution_count": 268,
   "id": "c3d31852",
   "metadata": {},
   "outputs": [
    {
     "data": {
      "text/plain": [
       "list"
      ]
     },
     "execution_count": 268,
     "metadata": {},
     "output_type": "execute_result"
    }
   ],
   "source": [
    "type(DS)"
   ]
  },
  {
   "cell_type": "markdown",
   "id": "b7b89dfb",
   "metadata": {},
   "source": [
    "for ele "
   ]
  },
  {
   "cell_type": "code",
   "execution_count": 265,
   "id": "c1a76312",
   "metadata": {},
   "outputs": [
    {
     "data": {
      "text/plain": [
       "list"
      ]
     },
     "execution_count": 265,
     "metadata": {},
     "output_type": "execute_result"
    }
   ],
   "source": [
    "type(X)"
   ]
  },
  {
   "cell_type": "code",
   "execution_count": 276,
   "id": "4f5b4f26",
   "metadata": {},
   "outputs": [],
   "source": [
    "DS = []"
   ]
  },
  {
   "cell_type": "code",
   "execution_count": 277,
   "id": "2a29c6d4",
   "metadata": {
    "scrolled": true
   },
   "outputs": [],
   "source": [
    "for i in range(len(X)):\n",
    "    nl = []\n",
    "    nl.append(X[i])\n",
    "    nl.append(Y[i])\n",
    "    DS.append(nl)"
   ]
  },
  {
   "cell_type": "code",
   "execution_count": 279,
   "id": "6efd3fbd",
   "metadata": {},
   "outputs": [
    {
     "data": {
      "text/plain": [
       "1000"
      ]
     },
     "execution_count": 279,
     "metadata": {},
     "output_type": "execute_result"
    }
   ],
   "source": [
    "len(DS)"
   ]
  },
  {
   "cell_type": "code",
   "execution_count": 280,
   "id": "95a11ba2",
   "metadata": {},
   "outputs": [],
   "source": [
    "import random"
   ]
  },
  {
   "cell_type": "code",
   "execution_count": 281,
   "id": "42c9de80",
   "metadata": {},
   "outputs": [],
   "source": [
    "random.shuffle(DS)"
   ]
  },
  {
   "cell_type": "code",
   "execution_count": 286,
   "id": "ce298a9b",
   "metadata": {},
   "outputs": [],
   "source": [
    "X = []\n",
    "Y = []"
   ]
  },
  {
   "cell_type": "code",
   "execution_count": 287,
   "id": "029ccd08",
   "metadata": {},
   "outputs": [],
   "source": [
    "for i in range(len(DS)):\n",
    "    X.append(DS[i][0])\n",
    "    Y.append(DS[i][1])"
   ]
  },
  {
   "cell_type": "code",
   "execution_count": 291,
   "id": "9b65bccf",
   "metadata": {},
   "outputs": [],
   "source": [
    "Xt = np.array(X)\n",
    "Yt = np.array(Y)"
   ]
  },
  {
   "cell_type": "markdown",
   "id": "6f4750d4",
   "metadata": {},
   "source": [
    "### I have Randomly shuffled data "
   ]
  },
  {
   "cell_type": "code",
   "execution_count": 356,
   "id": "0a50630c",
   "metadata": {},
   "outputs": [],
   "source": [
    "Xt =np.array(X)\n",
    "Xt = Xt/255.0"
   ]
  },
  {
   "cell_type": "code",
   "execution_count": 357,
   "id": "67ac7b30",
   "metadata": {},
   "outputs": [],
   "source": [
    "model = Sequential()"
   ]
  },
  {
   "cell_type": "code",
   "execution_count": 358,
   "id": "4b3de938",
   "metadata": {},
   "outputs": [],
   "source": [
    "from tensorflow.keras.models import Sequential\n",
    "from tensorflow.keras.layers import Dense , Input , MaxPool2D , Conv2D , Flatten"
   ]
  },
  {
   "cell_type": "code",
   "execution_count": 359,
   "id": "881a4251",
   "metadata": {},
   "outputs": [],
   "source": [
    "model.add(Input(shape = (64 , 64 , 3)))"
   ]
  },
  {
   "cell_type": "code",
   "execution_count": 360,
   "id": "1e8dd67b",
   "metadata": {},
   "outputs": [],
   "source": [
    "model.add(Conv2D(32, 3, activation = 'relu'))\n",
    "model.add(MaxPool2D((2,2)))\n",
    "model.add(Conv2D(16 , 3 , padding = 'valid' , activation = 'relu'))\n",
    "model.add(Flatten())\n",
    "model.add(Dense(64 , activation = 'relu'))\n",
    "model.add(Dense(16 , activation = 'relu'))\n",
    "model.add(Dense(1 , activation = 'sigmoid'))"
   ]
  },
  {
   "cell_type": "code",
   "execution_count": 362,
   "id": "33224862",
   "metadata": {},
   "outputs": [],
   "source": [
    "model.compile(optimizer= 'adam' , loss= 'binary_crossentropy' , metrics = ['accuracy'] )"
   ]
  },
  {
   "cell_type": "code",
   "execution_count": 363,
   "id": "b358642b",
   "metadata": {},
   "outputs": [
    {
     "name": "stdout",
     "output_type": "stream",
     "text": [
      "Epoch 1/25\n",
      "54/54 [==============================] - 2s 36ms/step - loss: 0.6956 - accuracy: 0.6247 - val_loss: 0.5523 - val_accuracy: 0.7000\n",
      "Epoch 2/25\n",
      "54/54 [==============================] - 2s 33ms/step - loss: 0.4375 - accuracy: 0.8000 - val_loss: 0.3217 - val_accuracy: 0.8933\n",
      "Epoch 3/25\n",
      "54/54 [==============================] - 2s 33ms/step - loss: 0.3460 - accuracy: 0.8482 - val_loss: 0.2909 - val_accuracy: 0.8867\n",
      "Epoch 4/25\n",
      "54/54 [==============================] - 2s 34ms/step - loss: 0.3351 - accuracy: 0.8471 - val_loss: 0.2921 - val_accuracy: 0.8667\n",
      "Epoch 5/25\n",
      "54/54 [==============================] - 2s 36ms/step - loss: 0.3199 - accuracy: 0.8576 - val_loss: 0.3015 - val_accuracy: 0.8467\n",
      "Epoch 6/25\n",
      "54/54 [==============================] - 2s 35ms/step - loss: 0.3186 - accuracy: 0.8494 - val_loss: 0.2715 - val_accuracy: 0.8933\n",
      "Epoch 7/25\n",
      "54/54 [==============================] - 2s 35ms/step - loss: 0.2977 - accuracy: 0.8553 - val_loss: 0.2991 - val_accuracy: 0.8533\n",
      "Epoch 8/25\n",
      "54/54 [==============================] - 2s 35ms/step - loss: 0.2913 - accuracy: 0.8624 - val_loss: 0.3243 - val_accuracy: 0.8733\n",
      "Epoch 9/25\n",
      "54/54 [==============================] - 2s 35ms/step - loss: 0.2860 - accuracy: 0.8659 - val_loss: 0.2862 - val_accuracy: 0.8800\n",
      "Epoch 10/25\n",
      "54/54 [==============================] - 2s 36ms/step - loss: 0.2487 - accuracy: 0.8894 - val_loss: 0.2995 - val_accuracy: 0.8867\n",
      "Epoch 11/25\n",
      "54/54 [==============================] - 2s 33ms/step - loss: 0.2372 - accuracy: 0.9000 - val_loss: 0.3356 - val_accuracy: 0.8400\n",
      "Epoch 12/25\n",
      "54/54 [==============================] - 2s 33ms/step - loss: 0.2094 - accuracy: 0.9047 - val_loss: 0.2928 - val_accuracy: 0.8800\n",
      "Epoch 13/25\n",
      "54/54 [==============================] - 2s 33ms/step - loss: 0.1925 - accuracy: 0.9141 - val_loss: 0.2535 - val_accuracy: 0.9000\n",
      "Epoch 14/25\n",
      "54/54 [==============================] - 2s 33ms/step - loss: 0.1357 - accuracy: 0.9424 - val_loss: 0.2518 - val_accuracy: 0.8867\n",
      "Epoch 15/25\n",
      "54/54 [==============================] - 2s 33ms/step - loss: 0.0968 - accuracy: 0.9624 - val_loss: 0.2947 - val_accuracy: 0.9133\n",
      "Epoch 16/25\n",
      "54/54 [==============================] - 2s 34ms/step - loss: 0.0657 - accuracy: 0.9776 - val_loss: 0.1562 - val_accuracy: 0.9733\n",
      "Epoch 17/25\n",
      "54/54 [==============================] - 2s 34ms/step - loss: 0.0179 - accuracy: 0.9953 - val_loss: 0.1495 - val_accuracy: 0.9733\n",
      "Epoch 18/25\n",
      "54/54 [==============================] - 2s 34ms/step - loss: 0.0071 - accuracy: 0.9988 - val_loss: 0.1039 - val_accuracy: 0.9733\n",
      "Epoch 19/25\n",
      "54/54 [==============================] - 2s 34ms/step - loss: 0.0026 - accuracy: 1.0000 - val_loss: 0.0869 - val_accuracy: 0.9733\n",
      "Epoch 20/25\n",
      "54/54 [==============================] - 2s 33ms/step - loss: 0.0011 - accuracy: 1.0000 - val_loss: 0.0991 - val_accuracy: 0.9800\n",
      "Epoch 21/25\n",
      "54/54 [==============================] - 2s 34ms/step - loss: 7.3722e-04 - accuracy: 1.0000 - val_loss: 0.0938 - val_accuracy: 0.9800\n",
      "Epoch 22/25\n",
      "54/54 [==============================] - 2s 33ms/step - loss: 5.4339e-04 - accuracy: 1.0000 - val_loss: 0.0815 - val_accuracy: 0.9800\n",
      "Epoch 23/25\n",
      "54/54 [==============================] - 2s 34ms/step - loss: 4.1498e-04 - accuracy: 1.0000 - val_loss: 0.0782 - val_accuracy: 0.9800\n",
      "Epoch 24/25\n",
      "54/54 [==============================] - 2s 34ms/step - loss: 3.0447e-04 - accuracy: 1.0000 - val_loss: 0.0802 - val_accuracy: 0.9800\n",
      "Epoch 25/25\n",
      "54/54 [==============================] - 2s 33ms/step - loss: 2.4800e-04 - accuracy: 1.0000 - val_loss: 0.0805 - val_accuracy: 0.9800\n"
     ]
    }
   ],
   "source": [
    "hist = model.fit(Xt , Yt , validation_split = 0.15 , epochs = 25 , batch_size = 16)"
   ]
  },
  {
   "cell_type": "code",
   "execution_count": 367,
   "id": "2798b91d",
   "metadata": {},
   "outputs": [],
   "source": [
    "import joblib"
   ]
  },
  {
   "cell_type": "code",
   "execution_count": 368,
   "id": "1c5186f7",
   "metadata": {},
   "outputs": [
    {
     "name": "stdout",
     "output_type": "stream",
     "text": [
      "INFO:tensorflow:Assets written to: ram://9f700086-37ce-47e2-9692-fee5ae9469ea/assets\n"
     ]
    },
    {
     "data": {
      "text/plain": [
       "['model_trained.pkl']"
      ]
     },
     "execution_count": 368,
     "metadata": {},
     "output_type": "execute_result"
    }
   ],
   "source": [
    "joblib.dump(model , 'model_trained.pkl')"
   ]
  },
  {
   "cell_type": "code",
   "execution_count": 369,
   "id": "395e46b0",
   "metadata": {},
   "outputs": [
    {
     "data": {
      "text/plain": [
       "['Y_train']"
      ]
     },
     "execution_count": 369,
     "metadata": {},
     "output_type": "execute_result"
    }
   ],
   "source": [
    "joblib.dump(Xt , 'X_train')\n",
    "joblib.dump(Yt , 'Y_train')"
   ]
  },
  {
   "cell_type": "code",
   "execution_count": null,
   "id": "4ce03135",
   "metadata": {},
   "outputs": [],
   "source": []
  }
 ],
 "metadata": {
  "kernelspec": {
   "display_name": "Python 3 (ipykernel)",
   "language": "python",
   "name": "python3"
  },
  "language_info": {
   "codemirror_mode": {
    "name": "ipython",
    "version": 3
   },
   "file_extension": ".py",
   "mimetype": "text/x-python",
   "name": "python",
   "nbconvert_exporter": "python",
   "pygments_lexer": "ipython3",
   "version": "3.9.7"
  }
 },
 "nbformat": 4,
 "nbformat_minor": 5
}
